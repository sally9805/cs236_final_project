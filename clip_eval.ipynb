{
  "nbformat": 4,
  "nbformat_minor": 0,
  "metadata": {
    "colab": {
      "provenance": []
    },
    "kernelspec": {
      "name": "python3",
      "display_name": "Python 3"
    },
    "language_info": {
      "name": "python"
    }
  },
  "cells": [
    {
      "cell_type": "code",
      "source": [
        "%pip install torchmetrics\n",
        "%pip install torch\n",
        "%pip install transformers>=4.10.0\n",
        "%pip install torchmetrics[multimodal]"
      ],
      "metadata": {
        "id": "3aMburn_lc07"
      },
      "execution_count": null,
      "outputs": []
    },
    {
      "cell_type": "code",
      "execution_count": 5,
      "metadata": {
        "id": "GNkme9jUlO9w"
      },
      "outputs": [],
      "source": [
        "from torchmetrics.multimodal.clip_score import CLIPScore\n",
        "from functools import partial\n",
        "import torch\n",
        "\n",
        "def calculate_clip_score_text(images, prompts):\n",
        "    images_int = (images * 255).astype(\"uint8\")\n",
        "    metric = CLIPScore(model_name_or_path=\"openai/clip-vit-base-patch16\")\n",
        "    clip_score_res = metric(torch.from_numpy(images_int).permute(0, 3, 1, 2), prompts).detach()\n",
        "    return round(float(clip_score_res), 4)\n",
        "\n"
      ]
    },
    {
      "cell_type": "code",
      "source": [
        "import imageio as iio\n",
        "# read an image\n",
        "img = iio.imread(\"/content/doge_riding_bicycle_3.png\")\n",
        "img = img[None]"
      ],
      "metadata": {
        "colab": {
          "base_uri": "https://localhost:8080/"
        },
        "id": "aZx6UDdjtpeP",
        "outputId": "c471352b-d3e9-482e-cc95-ee4969a8cbdb"
      },
      "execution_count": 9,
      "outputs": [
        {
          "output_type": "stream",
          "name": "stderr",
          "text": [
            "<ipython-input-9-8f34731f3cdf>:3: DeprecationWarning: Starting with ImageIO v3 the behavior of this function will switch to that of iio.v3.imread. To keep the current behavior (and make this warning disappear) use `import imageio.v2 as imageio` or call `imageio.v2.imread` directly.\n",
            "  img = iio.imread(\"/content/doge_riding_bicycle_3.png\")\n"
          ]
        }
      ]
    },
    {
      "cell_type": "code",
      "source": [
        "sd_clip_score = calculate_clip_score_text(img, \"a dog riding a bicycle\")\n",
        "print(f\"CLIP score: {sd_clip_score}\")"
      ],
      "metadata": {
        "colab": {
          "base_uri": "https://localhost:8080/"
        },
        "id": "LTkPCN1Ftodv",
        "outputId": "43036b25-038d-4839-dcae-bd181758a4ec"
      },
      "execution_count": 10,
      "outputs": [
        {
          "output_type": "stream",
          "name": "stdout",
          "text": [
            "CLIP score: 33.0956\n"
          ]
        }
      ]
    }
  ]
}