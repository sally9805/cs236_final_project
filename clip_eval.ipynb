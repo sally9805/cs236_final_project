{
  "cells": [
    {
      "cell_type": "code",
      "execution_count": null,
      "metadata": {
        "colab": {
          "base_uri": "https://localhost:8080/"
        },
        "id": "3aMburn_lc07",
        "outputId": "085fbaab-67e6-4dbc-8b3f-053089fcdaf4"
      },
      "outputs": [],
      "source": [
        "%pip install torchmetrics\n",
        "%pip install torch\n",
        "%pip install transformers>=4.10.0\n",
        "%pip install torchmetrics[multimodal]"
      ]
    },
    {
      "cell_type": "markdown",
      "metadata": {
        "id": "vhkYEo6OUi9j"
      },
      "source": [
        "#Image-Text CLIP Score"
      ]
    },
    {
      "cell_type": "code",
      "execution_count": null,
      "metadata": {
        "id": "GNkme9jUlO9w"
      },
      "outputs": [],
      "source": [
        "from torchmetrics.multimodal.clip_score import CLIPScore\n",
        "from functools import partial\n",
        "import torch\n",
        "\n",
        "def calculate_clip_score_text(images, prompts):\n",
        "    images_int = (images * 255).astype(\"uint8\")\n",
        "    metric = CLIPScore(model_name_or_path=\"openai/clip-vit-base-patch16\")\n",
        "    clip_score_res = metric(torch.from_numpy(images_int).permute(0, 3, 1, 2), prompts).detach()\n",
        "    return round(float(clip_score_res), 4)\n"
      ]
    },
    {
      "cell_type": "code",
      "execution_count": null,
      "metadata": {
        "id": "aZx6UDdjtpeP"
      },
      "outputs": [],
      "source": [
        "import imageio as iio\n",
        "# read an image\n",
        "img = iio.imread(\"/content/doge_riding_bicycle_3.png\")\n",
        "img = img[None]"
      ]
    },
    {
      "cell_type": "code",
      "execution_count": null,
      "metadata": {
        "id": "LTkPCN1Ftodv"
      },
      "outputs": [],
      "source": [
        "sd_clip_score = calculate_clip_score_text(img, \"a dog riding a bicycle\")\n",
        "print(f\"CLIP score: {sd_clip_score}\")"
      ]
    },
    {
      "cell_type": "code",
      "execution_count": null,
      "metadata": {
        "colab": {
          "base_uri": "https://localhost:8080/",
          "height": 49,
          "referenced_widgets": [
            "4ddd6b26ba834d47b44994035b9da3b8",
            "dab9c6c78cad4d9baa9fa19bc42b465f",
            "74ca90695ad54c30ae75883b11ba1706",
            "dbc4150fd8f447488355ba2beee5e5f6",
            "c68d1193ce6c44e5a88c96acd41c2c76",
            "7f7b8fdd302a4e0e9d36fec50aba3bf9",
            "fbdb1941737d416a9299ba0da41c89d3",
            "def8b73144cd4bc7bc6047e6dbdd84a9",
            "5dbc8b1c5a7745d5949108b3e8108870",
            "ed04d1631c354704abff4b72d364099b",
            "a53993a8369b41d7b0e2f6bae910e82e"
          ]
        },
        "id": "vR_QRfT2QyeG",
        "outputId": "b8b2e470-498f-4eb1-9591-7adb394aa9b3"
      },
      "outputs": [],
      "source": [
        "from transformers import (\n",
        "    CLIPTokenizer,\n",
        "    CLIPTextModelWithProjection,\n",
        "    CLIPVisionModelWithProjection,\n",
        "    CLIPImageProcessor,\n",
        ")\n",
        "if torch.cuda.is_available():\n",
        "    device = \"cuda\"\n",
        "else:\n",
        "    device = \"cpu\"\n",
        "clip_id = \"openai/clip-vit-large-patch14\"\n",
        "tokenizer = CLIPTokenizer.from_pretrained(clip_id)\n",
        "text_encoder = CLIPTextModelWithProjection.from_pretrained(clip_id).to(device)\n",
        "image_processor = CLIPImageProcessor.from_pretrained(clip_id)\n",
        "image_encoder = CLIPVisionModelWithProjection.from_pretrained(clip_id).to(device)"
      ]
    },
    {
      "cell_type": "markdown",
      "metadata": {
        "id": "sqS4lt5kUqnD"
      },
      "source": [
        "#Image-Image CLIP Score (with prompt)"
      ]
    },
    {
      "cell_type": "code",
      "execution_count": null,
      "metadata": {
        "id": "YicOjuvBQ94X"
      },
      "outputs": [],
      "source": [
        "import torch.nn as nn\n",
        "import torch.nn.functional as F\n",
        "import numpy as np\n",
        "\n",
        "\n",
        "class DirectionalSimilarity(nn.Module):\n",
        "    def __init__(self, tokenizer, text_encoder, image_processor, image_encoder):\n",
        "        super().__init__()\n",
        "        self.tokenizer = tokenizer\n",
        "        self.text_encoder = text_encoder\n",
        "        self.image_processor = image_processor\n",
        "        self.image_encoder = image_encoder\n",
        "\n",
        "    def preprocess_image(self, image):\n",
        "        image = self.image_processor(image, return_tensors=\"pt\")[\"pixel_values\"]\n",
        "        return {\"pixel_values\": image.to(device)}\n",
        "\n",
        "    def tokenize_text(self, text):\n",
        "        inputs = self.tokenizer(\n",
        "            text,\n",
        "            max_length=self.tokenizer.model_max_length,\n",
        "            padding=\"max_length\",\n",
        "            truncation=True,\n",
        "            return_tensors=\"pt\",\n",
        "        )\n",
        "        return {\"input_ids\": inputs.input_ids.to(device)}\n",
        "\n",
        "    def encode_image(self, image):\n",
        "        preprocessed_image = self.preprocess_image(image)\n",
        "        image_features = self.image_encoder(**preprocessed_image).image_embeds\n",
        "        image_features = image_features / image_features.norm(dim=1, keepdim=True)\n",
        "        return image_features\n",
        "\n",
        "    def encode_text(self, text):\n",
        "        tokenized_text = self.tokenize_text(text)\n",
        "        text_features = self.text_encoder(**tokenized_text).text_embeds\n",
        "        text_features = text_features / text_features.norm(dim=1, keepdim=True)\n",
        "        return text_features\n",
        "\n",
        "    def compute_directional_similarity(self, img_feat_one, img_feat_two, text_feat_one, text_feat_two):\n",
        "        sim_direction = F.cosine_similarity(img_feat_two - img_feat_one, text_feat_two - text_feat_one)\n",
        "        return sim_direction\n",
        "\n",
        "    def forward(self, image_one, image_two, caption_one, caption_two):\n",
        "        img_feat_one = self.encode_image(image_one)\n",
        "        img_feat_two = self.encode_image(image_two)\n",
        "        text_feat_one = self.encode_text(caption_one)\n",
        "        text_feat_two = self.encode_text(caption_two)\n",
        "        directional_similarity = self.compute_directional_similarity(\n",
        "            img_feat_one, img_feat_two, text_feat_one, text_feat_two\n",
        "        )\n",
        "        return directional_similarity"
      ]
    },
    {
      "cell_type": "code",
      "execution_count": null,
      "metadata": {
        "colab": {
          "base_uri": "https://localhost:8080/"
        },
        "id": "f8U84fy0RC3Y",
        "outputId": "dfc05c0f-a040-4656-afae-71b3405fdc65"
      },
      "outputs": [],
      "source": [
        "dir_similarity = DirectionalSimilarity(tokenizer, text_encoder, image_processor, image_encoder)\n",
        "scores = []\n",
        "\n",
        "original_image = \"/content/doge_riding_bicycle_1.png\" #@param {type:\"string\"}\n",
        "original_caption = \"a photo of doge riding bicycle\" #@param {type:\"string\"}\n",
        "edited_image = \"/content/doge_riding_bicycle_2.png\" #@param {type:\"string\"}\n",
        "modified_caption = \"a photo of dog riding bicycle\" #@param {type:\"string\"}\n",
        "\n",
        "\n",
        "# read an image\n",
        "original_image = iio.imread(original_image)\n",
        "edited_image = iio.imread(edited_image)\n",
        "\n",
        "similarity_score = dir_similarity(original_image, edited_image, original_caption, modified_caption)\n",
        "scores.append(float(similarity_score.detach().cpu()))\n",
        "\n",
        "print(f\"CLIP directional similarity: {np.mean(scores)}\")\n",
        "# CLIP directional similarity: 0.0797976553440094"
      ]
    }
  ],
  "metadata": {
    "colab": {
      "provenance": []
    },
    "kernelspec": {
      "display_name": "Python 3",
      "name": "python3"
    },
    "language_info": {
      "name": "python"
    },
    "widgets": {
      "application/vnd.jupyter.widget-state+json": {
        "4ddd6b26ba834d47b44994035b9da3b8": {
          "model_module": "@jupyter-widgets/controls",
          "model_module_version": "1.5.0",
          "model_name": "HBoxModel",
          "state": {
            "_dom_classes": [],
            "_model_module": "@jupyter-widgets/controls",
            "_model_module_version": "1.5.0",
            "_model_name": "HBoxModel",
            "_view_count": null,
            "_view_module": "@jupyter-widgets/controls",
            "_view_module_version": "1.5.0",
            "_view_name": "HBoxView",
            "box_style": "",
            "children": [
              "IPY_MODEL_dab9c6c78cad4d9baa9fa19bc42b465f",
              "IPY_MODEL_74ca90695ad54c30ae75883b11ba1706",
              "IPY_MODEL_dbc4150fd8f447488355ba2beee5e5f6"
            ],
            "layout": "IPY_MODEL_c68d1193ce6c44e5a88c96acd41c2c76"
          }
        },
        "5dbc8b1c5a7745d5949108b3e8108870": {
          "model_module": "@jupyter-widgets/controls",
          "model_module_version": "1.5.0",
          "model_name": "ProgressStyleModel",
          "state": {
            "_model_module": "@jupyter-widgets/controls",
            "_model_module_version": "1.5.0",
            "_model_name": "ProgressStyleModel",
            "_view_count": null,
            "_view_module": "@jupyter-widgets/base",
            "_view_module_version": "1.2.0",
            "_view_name": "StyleView",
            "bar_color": null,
            "description_width": ""
          }
        },
        "74ca90695ad54c30ae75883b11ba1706": {
          "model_module": "@jupyter-widgets/controls",
          "model_module_version": "1.5.0",
          "model_name": "FloatProgressModel",
          "state": {
            "_dom_classes": [],
            "_model_module": "@jupyter-widgets/controls",
            "_model_module_version": "1.5.0",
            "_model_name": "FloatProgressModel",
            "_view_count": null,
            "_view_module": "@jupyter-widgets/controls",
            "_view_module_version": "1.5.0",
            "_view_name": "ProgressView",
            "bar_style": "success",
            "description": "",
            "description_tooltip": null,
            "layout": "IPY_MODEL_def8b73144cd4bc7bc6047e6dbdd84a9",
            "max": 316,
            "min": 0,
            "orientation": "horizontal",
            "style": "IPY_MODEL_5dbc8b1c5a7745d5949108b3e8108870",
            "value": 316
          }
        },
        "7f7b8fdd302a4e0e9d36fec50aba3bf9": {
          "model_module": "@jupyter-widgets/base",
          "model_module_version": "1.2.0",
          "model_name": "LayoutModel",
          "state": {
            "_model_module": "@jupyter-widgets/base",
            "_model_module_version": "1.2.0",
            "_model_name": "LayoutModel",
            "_view_count": null,
            "_view_module": "@jupyter-widgets/base",
            "_view_module_version": "1.2.0",
            "_view_name": "LayoutView",
            "align_content": null,
            "align_items": null,
            "align_self": null,
            "border": null,
            "bottom": null,
            "display": null,
            "flex": null,
            "flex_flow": null,
            "grid_area": null,
            "grid_auto_columns": null,
            "grid_auto_flow": null,
            "grid_auto_rows": null,
            "grid_column": null,
            "grid_gap": null,
            "grid_row": null,
            "grid_template_areas": null,
            "grid_template_columns": null,
            "grid_template_rows": null,
            "height": null,
            "justify_content": null,
            "justify_items": null,
            "left": null,
            "margin": null,
            "max_height": null,
            "max_width": null,
            "min_height": null,
            "min_width": null,
            "object_fit": null,
            "object_position": null,
            "order": null,
            "overflow": null,
            "overflow_x": null,
            "overflow_y": null,
            "padding": null,
            "right": null,
            "top": null,
            "visibility": null,
            "width": null
          }
        },
        "a53993a8369b41d7b0e2f6bae910e82e": {
          "model_module": "@jupyter-widgets/controls",
          "model_module_version": "1.5.0",
          "model_name": "DescriptionStyleModel",
          "state": {
            "_model_module": "@jupyter-widgets/controls",
            "_model_module_version": "1.5.0",
            "_model_name": "DescriptionStyleModel",
            "_view_count": null,
            "_view_module": "@jupyter-widgets/base",
            "_view_module_version": "1.2.0",
            "_view_name": "StyleView",
            "description_width": ""
          }
        },
        "c68d1193ce6c44e5a88c96acd41c2c76": {
          "model_module": "@jupyter-widgets/base",
          "model_module_version": "1.2.0",
          "model_name": "LayoutModel",
          "state": {
            "_model_module": "@jupyter-widgets/base",
            "_model_module_version": "1.2.0",
            "_model_name": "LayoutModel",
            "_view_count": null,
            "_view_module": "@jupyter-widgets/base",
            "_view_module_version": "1.2.0",
            "_view_name": "LayoutView",
            "align_content": null,
            "align_items": null,
            "align_self": null,
            "border": null,
            "bottom": null,
            "display": null,
            "flex": null,
            "flex_flow": null,
            "grid_area": null,
            "grid_auto_columns": null,
            "grid_auto_flow": null,
            "grid_auto_rows": null,
            "grid_column": null,
            "grid_gap": null,
            "grid_row": null,
            "grid_template_areas": null,
            "grid_template_columns": null,
            "grid_template_rows": null,
            "height": null,
            "justify_content": null,
            "justify_items": null,
            "left": null,
            "margin": null,
            "max_height": null,
            "max_width": null,
            "min_height": null,
            "min_width": null,
            "object_fit": null,
            "object_position": null,
            "order": null,
            "overflow": null,
            "overflow_x": null,
            "overflow_y": null,
            "padding": null,
            "right": null,
            "top": null,
            "visibility": null,
            "width": null
          }
        },
        "dab9c6c78cad4d9baa9fa19bc42b465f": {
          "model_module": "@jupyter-widgets/controls",
          "model_module_version": "1.5.0",
          "model_name": "HTMLModel",
          "state": {
            "_dom_classes": [],
            "_model_module": "@jupyter-widgets/controls",
            "_model_module_version": "1.5.0",
            "_model_name": "HTMLModel",
            "_view_count": null,
            "_view_module": "@jupyter-widgets/controls",
            "_view_module_version": "1.5.0",
            "_view_name": "HTMLView",
            "description": "",
            "description_tooltip": null,
            "layout": "IPY_MODEL_7f7b8fdd302a4e0e9d36fec50aba3bf9",
            "placeholder": "​",
            "style": "IPY_MODEL_fbdb1941737d416a9299ba0da41c89d3",
            "value": "Downloading (…)rocessor_config.json: 100%"
          }
        },
        "dbc4150fd8f447488355ba2beee5e5f6": {
          "model_module": "@jupyter-widgets/controls",
          "model_module_version": "1.5.0",
          "model_name": "HTMLModel",
          "state": {
            "_dom_classes": [],
            "_model_module": "@jupyter-widgets/controls",
            "_model_module_version": "1.5.0",
            "_model_name": "HTMLModel",
            "_view_count": null,
            "_view_module": "@jupyter-widgets/controls",
            "_view_module_version": "1.5.0",
            "_view_name": "HTMLView",
            "description": "",
            "description_tooltip": null,
            "layout": "IPY_MODEL_ed04d1631c354704abff4b72d364099b",
            "placeholder": "​",
            "style": "IPY_MODEL_a53993a8369b41d7b0e2f6bae910e82e",
            "value": " 316/316 [00:00&lt;00:00, 7.85kB/s]"
          }
        },
        "def8b73144cd4bc7bc6047e6dbdd84a9": {
          "model_module": "@jupyter-widgets/base",
          "model_module_version": "1.2.0",
          "model_name": "LayoutModel",
          "state": {
            "_model_module": "@jupyter-widgets/base",
            "_model_module_version": "1.2.0",
            "_model_name": "LayoutModel",
            "_view_count": null,
            "_view_module": "@jupyter-widgets/base",
            "_view_module_version": "1.2.0",
            "_view_name": "LayoutView",
            "align_content": null,
            "align_items": null,
            "align_self": null,
            "border": null,
            "bottom": null,
            "display": null,
            "flex": null,
            "flex_flow": null,
            "grid_area": null,
            "grid_auto_columns": null,
            "grid_auto_flow": null,
            "grid_auto_rows": null,
            "grid_column": null,
            "grid_gap": null,
            "grid_row": null,
            "grid_template_areas": null,
            "grid_template_columns": null,
            "grid_template_rows": null,
            "height": null,
            "justify_content": null,
            "justify_items": null,
            "left": null,
            "margin": null,
            "max_height": null,
            "max_width": null,
            "min_height": null,
            "min_width": null,
            "object_fit": null,
            "object_position": null,
            "order": null,
            "overflow": null,
            "overflow_x": null,
            "overflow_y": null,
            "padding": null,
            "right": null,
            "top": null,
            "visibility": null,
            "width": null
          }
        },
        "ed04d1631c354704abff4b72d364099b": {
          "model_module": "@jupyter-widgets/base",
          "model_module_version": "1.2.0",
          "model_name": "LayoutModel",
          "state": {
            "_model_module": "@jupyter-widgets/base",
            "_model_module_version": "1.2.0",
            "_model_name": "LayoutModel",
            "_view_count": null,
            "_view_module": "@jupyter-widgets/base",
            "_view_module_version": "1.2.0",
            "_view_name": "LayoutView",
            "align_content": null,
            "align_items": null,
            "align_self": null,
            "border": null,
            "bottom": null,
            "display": null,
            "flex": null,
            "flex_flow": null,
            "grid_area": null,
            "grid_auto_columns": null,
            "grid_auto_flow": null,
            "grid_auto_rows": null,
            "grid_column": null,
            "grid_gap": null,
            "grid_row": null,
            "grid_template_areas": null,
            "grid_template_columns": null,
            "grid_template_rows": null,
            "height": null,
            "justify_content": null,
            "justify_items": null,
            "left": null,
            "margin": null,
            "max_height": null,
            "max_width": null,
            "min_height": null,
            "min_width": null,
            "object_fit": null,
            "object_position": null,
            "order": null,
            "overflow": null,
            "overflow_x": null,
            "overflow_y": null,
            "padding": null,
            "right": null,
            "top": null,
            "visibility": null,
            "width": null
          }
        },
        "fbdb1941737d416a9299ba0da41c89d3": {
          "model_module": "@jupyter-widgets/controls",
          "model_module_version": "1.5.0",
          "model_name": "DescriptionStyleModel",
          "state": {
            "_model_module": "@jupyter-widgets/controls",
            "_model_module_version": "1.5.0",
            "_model_name": "DescriptionStyleModel",
            "_view_count": null,
            "_view_module": "@jupyter-widgets/base",
            "_view_module_version": "1.2.0",
            "_view_name": "StyleView",
            "description_width": ""
          }
        }
      }
    }
  },
  "nbformat": 4,
  "nbformat_minor": 0
}
